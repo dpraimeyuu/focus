{
 "cells": [
  {
   "cell_type": "code",
   "execution_count": null,
   "metadata": {
    "dotnet_interactive": {
     "language": "fsharp"
    },
    "vscode": {
     "languageId": "dotnet-interactive.fsharp"
    }
   },
   "outputs": [
    {
     "data": {
      "text/plain": [
       "'--e8b59de--2022-03-07--Damian Płaza'\r\n",
       "'--7c834d9--2022-03-07--damian.plaza'\r\n",
       "1\t1\tPowel.Synchronization.Modules/variables.json\r\n",
       "1\t1\tPowel.Synchronization.Observations/Synchronization.fs\r\n",
       "\r\n",
       "'--4805696--2022-02-25--Damian Płaza'\r\n",
       "'--480e0b3--2022-02-24--Damian Płaza'\r\n",
       "'--3c96b05--2022-02-24--damian.plaza'\r\n",
       "'--7c60dfd--2022-02-24--damian.plaza'\r\n",
       "2\t2\t.github/workflows/build-pull-request.yml\r\n",
       "1\t1\t.github/workflows/release.yml"
      ]
     },
     "metadata": {},
     "output_type": "display_data"
    }
   ],
   "source": [
    "let content = System.IO.File.ReadAllText(@\"./multiple_commits_same_files.log\")\n",
    "content"
   ]
  },
  {
   "cell_type": "code",
   "execution_count": null,
   "metadata": {
    "dotnet_interactive": {
     "language": "fsharp"
    },
    "vscode": {
     "languageId": "dotnet-interactive.fsharp"
    }
   },
   "outputs": [
    {
     "data": {
      "text/html": [
       "<table><thead><tr><th><i>index</i></th><th>value</th></tr></thead><tbody><tr><td>0</td><td>&#39;--e8b59de--2022-03-07--Damian Płaza&#39;\r\n",
       "&#39;--7c834d9--2022-03-07--damian.plaza&#39;\r\n",
       "1\t1\tPowel.Synchronization.Modules/variables.json\r\n",
       "1\t1\tPowel.Synchronization.Observations/Synchronization.fs</td></tr><tr><td>1</td><td>&#39;--4805696--2022-02-25--Damian Płaza&#39;\r\n",
       "&#39;--480e0b3--2022-02-24--Damian Płaza&#39;\r\n",
       "&#39;--3c96b05--2022-02-24--damian.plaza&#39;\r\n",
       "&#39;--7c60dfd--2022-02-24--damian.plaza&#39;\r\n",
       "2\t2\t.github/workflows/build-pull-request.yml\r\n",
       "1\t1\t.github/workflows/release.yml</td></tr></tbody></table>"
      ]
     },
     "metadata": {},
     "output_type": "display_data"
    }
   ],
   "source": [
    "let entries = content.Split([| Environment.NewLine + Environment.NewLine |], StringSplitOptions.RemoveEmptyEntries)\n",
    "entries"
   ]
  }
 ],
 "metadata": {
  "kernelspec": {
   "display_name": ".NET (F#)",
   "language": "F#",
   "name": ".net-fsharp"
  },
  "language_info": {
   "name": "F#"
  }
 },
 "nbformat": 4,
 "nbformat_minor": 2
}
